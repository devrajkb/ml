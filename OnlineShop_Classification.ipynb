{
 "cells": [
  {
   "cell_type": "markdown",
   "id": "a07a0211",
   "metadata": {},
   "source": [
    "# Classification: Feedback Explore other classifications"
   ]
  },
  {
   "cell_type": "code",
   "execution_count": 1,
   "id": "be4ada6c",
   "metadata": {},
   "outputs": [
    {
     "name": "stdout",
     "output_type": "stream",
     "text": [
      "Python: 3.9.7 (default, Sep 16 2021, 16:59:28) [MSC v.1916 64 bit (AMD64)]\n",
      "scipy: 1.7.1\n",
      "numpy: 1.20.3\n",
      "matplotlib: 3.4.3\n",
      "pandas: 1.3.4\n",
      "sklearn: 0.24.2\n",
      "\n",
      "\n",
      "<class 'pandas.core.frame.DataFrame'>\n",
      "RangeIndex: 12330 entries, 0 to 12329\n",
      "Data columns (total 18 columns):\n",
      " #   Column                   Non-Null Count  Dtype  \n",
      "---  ------                   --------------  -----  \n",
      " 0   Administrative           12330 non-null  int64  \n",
      " 1   Administrative_Duration  12330 non-null  float64\n",
      " 2   Informational            12330 non-null  int64  \n",
      " 3   Informational_Duration   12330 non-null  float64\n",
      " 4   ProductRelated           12330 non-null  int64  \n",
      " 5   ProductRelated_Duration  12330 non-null  float64\n",
      " 6   BounceRates              12330 non-null  float64\n",
      " 7   ExitRates                12330 non-null  float64\n",
      " 8   PageValues               12330 non-null  float64\n",
      " 9   SpecialDay               12330 non-null  float64\n",
      " 10  Month                    12330 non-null  object \n",
      " 11  OperatingSystems         12330 non-null  int64  \n",
      " 12  Browser                  12330 non-null  int64  \n",
      " 13  Region                   12330 non-null  int64  \n",
      " 14  TrafficType              12330 non-null  int64  \n",
      " 15  VisitorType              12330 non-null  object \n",
      " 16  Weekend                  12330 non-null  bool   \n",
      " 17  Revenue                  12330 non-null  bool   \n",
      "dtypes: bool(2), float64(7), int64(7), object(2)\n",
      "memory usage: 1.5+ MB\n"
     ]
    },
    {
     "data": {
      "text/plain": [
       "False    10422\n",
       "True      1908\n",
       "Name: Revenue, dtype: int64"
      ]
     },
     "execution_count": 1,
     "metadata": {},
     "output_type": "execute_result"
    }
   ],
   "source": [
    "# Load libraries\n",
    "import sys\n",
    "import scipy\n",
    "import numpy\n",
    "import pandas\n",
    "import sklearn\n",
    "from sklearn.preprocessing import LabelEncoder,OneHotEncoder\n",
    "from sklearn.preprocessing import StandardScaler\n",
    "from sklearn import preprocessing\n",
    "import matplotlib\n",
    "import matplotlib.pyplot as plt\n",
    "from pandas.plotting import scatter_matrix\n",
    "from sklearn import model_selection\n",
    "from sklearn.metrics import confusion_matrix\n",
    "from sklearn.metrics import accuracy_score\n",
    "from sklearn.neighbors import KNeighborsClassifier\n",
    "from sklearn.svm import LinearSVC\n",
    "from sklearn.svm import SVC\n",
    "\n",
    "from sklearn.model_selection import GridSearchCV\n",
    "from sklearn.model_selection import RepeatedStratifiedKFold\n",
    "\n",
    "\n",
    "# version check\n",
    "print(\"Python: {}\".format(sys.version))\n",
    "print(\"scipy: {}\".format(scipy.__version__))\n",
    "print(\"numpy: {}\".format(numpy.__version__))\n",
    "print(\"matplotlib: {}\".format(matplotlib.__version__))\n",
    "print(\"pandas: {}\".format(pandas.__version__))\n",
    "print(\"sklearn: {}\".format(sklearn.__version__))\n",
    "print(\"\\n\")\n",
    "\n",
    "\n",
    "# Load dataset from the UCI Machine Learning repository\n",
    "url = \"https://archive.ics.uci.edu/ml/machine-learning-databases/00468/online_shoppers_intention.csv\"\n",
    "dataset = pandas.read_csv(url)\n",
    "dataset.info()\n",
    "\n",
    "dataset['Revenue'].value_counts()\n"
   ]
  },
  {
   "cell_type": "markdown",
   "id": "bcbf88b9",
   "metadata": {},
   "source": [
    "# Data Visualization: Refer OnlineShopDataAnalysis file"
   ]
  },
  {
   "cell_type": "markdown",
   "id": "5335a727",
   "metadata": {},
   "source": [
    "# Encode data"
   ]
  },
  {
   "cell_type": "code",
   "execution_count": 2,
   "id": "757e1e98",
   "metadata": {},
   "outputs": [
    {
     "name": "stdout",
     "output_type": "stream",
     "text": [
      "[False  True]\n",
      "[False  True]\n",
      "['Feb' 'Mar' 'May' 'Oct' 'June' 'Jul' 'Aug' 'Nov' 'Sep' 'Dec']\n",
      "['Returning_Visitor' 'New_Visitor' 'Other']\n",
      "   Administrative  Administrative_Duration  Informational  \\\n",
      "0               0                      0.0              0   \n",
      "1               0                      0.0              0   \n",
      "2               0                      0.0              0   \n",
      "3               0                      0.0              0   \n",
      "4               0                      0.0              0   \n",
      "\n",
      "   Informational_Duration  ProductRelated  ProductRelated_Duration  \\\n",
      "0                     0.0               1                 0.000000   \n",
      "1                     0.0               2                64.000000   \n",
      "2                     0.0               1                 0.000000   \n",
      "3                     0.0               2                 2.666667   \n",
      "4                     0.0              10               627.500000   \n",
      "\n",
      "   BounceRates  ExitRates  PageValues  SpecialDay Month  OperatingSystems  \\\n",
      "0         0.20       0.20         0.0         0.0   Feb                 1   \n",
      "1         0.00       0.10         0.0         0.0   Feb                 2   \n",
      "2         0.20       0.20         0.0         0.0   Feb                 4   \n",
      "3         0.05       0.14         0.0         0.0   Feb                 3   \n",
      "4         0.02       0.05         0.0         0.0   Feb                 3   \n",
      "\n",
      "   Browser  Region  TrafficType        VisitorType  Weekend  Revenue  \n",
      "0        1       1            1  Returning_Visitor    False    False  \n",
      "1        2       1            2  Returning_Visitor    False    False  \n",
      "2        1       9            3  Returning_Visitor    False    False  \n",
      "3        2       2            4  Returning_Visitor    False    False  \n",
      "4        3       1            4  Returning_Visitor     True    False  \n",
      "[0 1]\n",
      "[0 1]\n",
      "[ 2  3  5 10  6  7  8 11  9 12]\n",
      "[1 2 3]\n",
      "Administrative               int64\n",
      "Administrative_Duration    float64\n",
      "Informational                int64\n",
      "Informational_Duration     float64\n",
      "ProductRelated               int64\n",
      "ProductRelated_Duration    float64\n",
      "BounceRates                float64\n",
      "ExitRates                  float64\n",
      "PageValues                 float64\n",
      "SpecialDay                 float64\n",
      "Month                        int64\n",
      "OperatingSystems             int64\n",
      "Browser                      int64\n",
      "Region                       int64\n",
      "TrafficType                  int64\n",
      "VisitorType                  int64\n",
      "Weekend                      int64\n",
      "Revenue                      int64\n",
      "dtype: object\n",
      "   Administrative  Administrative_Duration  Informational  \\\n",
      "0               0                      0.0              0   \n",
      "1               0                      0.0              0   \n",
      "2               0                      0.0              0   \n",
      "3               0                      0.0              0   \n",
      "4               0                      0.0              0   \n",
      "\n",
      "   Informational_Duration  ProductRelated  ProductRelated_Duration  \\\n",
      "0                     0.0               1                 0.000000   \n",
      "1                     0.0               2                64.000000   \n",
      "2                     0.0               1                 0.000000   \n",
      "3                     0.0               2                 2.666667   \n",
      "4                     0.0              10               627.500000   \n",
      "\n",
      "   BounceRates  ExitRates  PageValues  SpecialDay  Month  OperatingSystems  \\\n",
      "0         0.20       0.20         0.0         0.0      2                 1   \n",
      "1         0.00       0.10         0.0         0.0      2                 2   \n",
      "2         0.20       0.20         0.0         0.0      2                 4   \n",
      "3         0.05       0.14         0.0         0.0      2                 3   \n",
      "4         0.02       0.05         0.0         0.0      2                 3   \n",
      "\n",
      "   Browser  Region  TrafficType  VisitorType  Weekend  Revenue  \n",
      "0        1       1            1            1        0        0  \n",
      "1        2       1            2            1        0        0  \n",
      "2        1       9            3            1        0        0  \n",
      "3        2       2            4            1        0        0  \n",
      "4        3       1            4            1        1        0  \n"
     ]
    }
   ],
   "source": [
    "def label_encoded_dataset():\n",
    "    dataset_enc = pandas.read_csv(url)\n",
    "    #print(str(dataset_enc.dtypes))\n",
    "    print(str(dataset_enc['Revenue'].unique()))\n",
    "    print(str(dataset_enc['Weekend'].unique()))\n",
    "    print(str(dataset_enc['Month'].unique()))\n",
    "    print(str(dataset_enc['VisitorType'].unique()))\n",
    "    print(str(dataset_enc.head()))\n",
    "    label_bool_mapping = {False:0, True: 1}\n",
    "    dataset_enc['Revenue'] = dataset_enc['Revenue'].map(label_bool_mapping, na_action=None)\n",
    "    dataset_enc['Weekend'] = dataset_enc['Weekend'].map(label_bool_mapping, na_action=None)\n",
    "\n",
    "    label_month_mapping = {'Feb':2, 'Mar':3, 'May':5, 'June':6, 'Jul':7, 'Aug':8, 'Oct':10, 'Nov':11, 'Sep':9, 'Dec':12}\n",
    "    dataset_enc['Month'] = dataset_enc['Month'].map(label_month_mapping, na_action=None)\n",
    "                           \n",
    "    label_visitor_mapping = {'Returning_Visitor':1, 'New_Visitor':2, 'Other':3}\n",
    "    dataset_enc['VisitorType'] = dataset_enc['VisitorType'].map(label_visitor_mapping, na_action=None)\n",
    "    print(str(dataset_enc['Revenue'].unique()))\n",
    "    print(str(dataset_enc['Weekend'].unique()))\n",
    "    print(str(dataset_enc['Month'].unique()))\n",
    "    print(str(dataset_enc['VisitorType'].unique()))\n",
    "    return dataset_enc\n",
    "\n",
    "dataset_encoded = label_encoded_dataset()\n",
    "print(str(dataset_encoded.dtypes))\n",
    "\n",
    "print(str(dataset_encoded.head()))\n"
   ]
  },
  {
   "cell_type": "markdown",
   "id": "17b3463b",
   "metadata": {},
   "source": [
    "# Split the data into training and test"
   ]
  },
  {
   "cell_type": "code",
   "execution_count": 3,
   "id": "17e720a9",
   "metadata": {},
   "outputs": [
    {
     "name": "stdout",
     "output_type": "stream",
     "text": [
      "(11220, 17)\n",
      "(11220,)\n",
      "(1110, 17)\n",
      "(1110,)\n"
     ]
    }
   ],
   "source": [
    "X = dataset_encoded.values[:, 0:17]\n",
    "y = dataset_encoded.values[:, 17]\n",
    "test_size = 0.09\n",
    "seed = 7\n",
    "X_train, X_test, y_train, y_test = model_selection.train_test_split(X, y, test_size=test_size, random_state=seed)\n",
    "\n",
    "print(X_train.shape)\n",
    "print(y_train.shape)\n",
    "print(X_test.shape)\n",
    "print(y_test.shape)"
   ]
  },
  {
   "cell_type": "markdown",
   "id": "fb6186fc",
   "metadata": {},
   "source": [
    "# Scale the training data"
   ]
  },
  {
   "cell_type": "code",
   "execution_count": 4,
   "id": "1ac7a360",
   "metadata": {},
   "outputs": [
    {
     "name": "stdout",
     "output_type": "stream",
     "text": [
      "[[-0.69631267 -0.45595517 -0.39458734 ... -0.01338133 -0.40503262\n",
      "  -0.55181471]\n",
      " [-0.69631267 -0.45595517 -0.39458734 ... -0.76282461 -0.40503262\n",
      "  -0.55181471]\n",
      " [-0.69631267 -0.45595517 -0.39458734 ... -0.01338133 -0.40503262\n",
      "  -0.55181471]\n",
      " ...\n",
      " [-0.69631267 -0.45595517 -0.39458734 ...  1.48550525 -0.40503262\n",
      "  -0.55181471]\n",
      " [-0.69631267 -0.45595517 -0.39458734 ...  1.48550525 -0.40503262\n",
      "  -0.55181471]\n",
      " [ 0.50600007  0.10442492 -0.39458734 ... -0.51301018 -0.40503262\n",
      "  -0.55181471]]\n",
      "(11220, 17)\n"
     ]
    }
   ],
   "source": [
    "#X = dataset_encoded.values\n",
    "x_std_scaler = StandardScaler().fit(X_train)\n",
    "X_train_scaled = x_std_scaler.transform(X_train)\n",
    "print(X_train_scaled)\n",
    "print(X_train_scaled.shape)\n",
    "\n",
    "#y_std_scaler = StandardScaler().fit(Y_train)\n",
    "#y_train_scaled = y_std_scaler.transform(Y_train)\n",
    "#print(y_train_scaled)\n"
   ]
  },
  {
   "cell_type": "code",
   "execution_count": null,
   "id": "91549bc0",
   "metadata": {},
   "outputs": [],
   "source": []
  },
  {
   "cell_type": "markdown",
   "id": "2c0a33b1",
   "metadata": {},
   "source": [
    "# Hyperparameters for KNN for Scaled data"
   ]
  },
  {
   "cell_type": "code",
   "execution_count": 5,
   "id": "e0056fa2",
   "metadata": {},
   "outputs": [
    {
     "name": "stdout",
     "output_type": "stream",
     "text": [
      "Best: 0.882709 using {'metric': 'euclidean', 'n_neighbors': 11, 'weights': 'distance'}\n",
      "0.843464 (0.012042) with: {'metric': 'euclidean', 'n_neighbors': 1, 'weights': 'uniform'}\n",
      "0.843464 (0.012042) with: {'metric': 'euclidean', 'n_neighbors': 1, 'weights': 'distance'}\n",
      "0.868330 (0.008505) with: {'metric': 'euclidean', 'n_neighbors': 3, 'weights': 'uniform'}\n",
      "0.868093 (0.008178) with: {'metric': 'euclidean', 'n_neighbors': 3, 'weights': 'distance'}\n",
      "0.875995 (0.008360) with: {'metric': 'euclidean', 'n_neighbors': 5, 'weights': 'uniform'}\n",
      "0.875579 (0.008242) with: {'metric': 'euclidean', 'n_neighbors': 5, 'weights': 'distance'}\n",
      "0.878610 (0.006844) with: {'metric': 'euclidean', 'n_neighbors': 7, 'weights': 'uniform'}\n",
      "0.878639 (0.006745) with: {'metric': 'euclidean', 'n_neighbors': 7, 'weights': 'distance'}\n",
      "0.880838 (0.007454) with: {'metric': 'euclidean', 'n_neighbors': 9, 'weights': 'uniform'}\n",
      "0.880689 (0.007345) with: {'metric': 'euclidean', 'n_neighbors': 9, 'weights': 'distance'}\n",
      "0.882561 (0.006052) with: {'metric': 'euclidean', 'n_neighbors': 11, 'weights': 'uniform'}\n",
      "0.882709 (0.006296) with: {'metric': 'euclidean', 'n_neighbors': 11, 'weights': 'distance'}\n",
      "0.881788 (0.006632) with: {'metric': 'euclidean', 'n_neighbors': 13, 'weights': 'uniform'}\n",
      "0.882115 (0.006585) with: {'metric': 'euclidean', 'n_neighbors': 13, 'weights': 'distance'}\n",
      "0.881551 (0.006863) with: {'metric': 'euclidean', 'n_neighbors': 15, 'weights': 'uniform'}\n",
      "0.882294 (0.006873) with: {'metric': 'euclidean', 'n_neighbors': 15, 'weights': 'distance'}\n",
      "0.881699 (0.006850) with: {'metric': 'euclidean', 'n_neighbors': 17, 'weights': 'uniform'}\n",
      "0.882353 (0.006942) with: {'metric': 'euclidean', 'n_neighbors': 17, 'weights': 'distance'}\n",
      "0.881402 (0.006799) with: {'metric': 'euclidean', 'n_neighbors': 19, 'weights': 'uniform'}\n",
      "0.881848 (0.006656) with: {'metric': 'euclidean', 'n_neighbors': 19, 'weights': 'distance'}\n",
      "0.847534 (0.008307) with: {'metric': 'manhattan', 'n_neighbors': 1, 'weights': 'uniform'}\n",
      "0.847534 (0.008307) with: {'metric': 'manhattan', 'n_neighbors': 1, 'weights': 'distance'}\n",
      "0.870380 (0.007009) with: {'metric': 'manhattan', 'n_neighbors': 3, 'weights': 'uniform'}\n",
      "0.869489 (0.007051) with: {'metric': 'manhattan', 'n_neighbors': 3, 'weights': 'distance'}\n",
      "0.875995 (0.006126) with: {'metric': 'manhattan', 'n_neighbors': 5, 'weights': 'uniform'}\n",
      "0.875550 (0.005923) with: {'metric': 'manhattan', 'n_neighbors': 5, 'weights': 'distance'}\n",
      "0.878431 (0.006134) with: {'metric': 'manhattan', 'n_neighbors': 7, 'weights': 'uniform'}\n",
      "0.878877 (0.006270) with: {'metric': 'manhattan', 'n_neighbors': 7, 'weights': 'distance'}\n",
      "0.880362 (0.006229) with: {'metric': 'manhattan', 'n_neighbors': 9, 'weights': 'uniform'}\n",
      "0.880630 (0.005970) with: {'metric': 'manhattan', 'n_neighbors': 9, 'weights': 'distance'}\n",
      "0.880867 (0.006379) with: {'metric': 'manhattan', 'n_neighbors': 11, 'weights': 'uniform'}\n",
      "0.881373 (0.006278) with: {'metric': 'manhattan', 'n_neighbors': 11, 'weights': 'distance'}\n",
      "0.881729 (0.006816) with: {'metric': 'manhattan', 'n_neighbors': 13, 'weights': 'uniform'}\n",
      "0.881818 (0.007129) with: {'metric': 'manhattan', 'n_neighbors': 13, 'weights': 'distance'}\n",
      "0.880808 (0.005455) with: {'metric': 'manhattan', 'n_neighbors': 15, 'weights': 'uniform'}\n",
      "0.881135 (0.005959) with: {'metric': 'manhattan', 'n_neighbors': 15, 'weights': 'distance'}\n",
      "0.879471 (0.005221) with: {'metric': 'manhattan', 'n_neighbors': 17, 'weights': 'uniform'}\n",
      "0.880273 (0.005418) with: {'metric': 'manhattan', 'n_neighbors': 17, 'weights': 'distance'}\n",
      "0.879679 (0.005446) with: {'metric': 'manhattan', 'n_neighbors': 19, 'weights': 'uniform'}\n",
      "0.880778 (0.005848) with: {'metric': 'manhattan', 'n_neighbors': 19, 'weights': 'distance'}\n",
      "0.843464 (0.012042) with: {'metric': 'minkowski', 'n_neighbors': 1, 'weights': 'uniform'}\n",
      "0.843464 (0.012042) with: {'metric': 'minkowski', 'n_neighbors': 1, 'weights': 'distance'}\n",
      "0.868330 (0.008505) with: {'metric': 'minkowski', 'n_neighbors': 3, 'weights': 'uniform'}\n",
      "0.868093 (0.008178) with: {'metric': 'minkowski', 'n_neighbors': 3, 'weights': 'distance'}\n",
      "0.875995 (0.008360) with: {'metric': 'minkowski', 'n_neighbors': 5, 'weights': 'uniform'}\n",
      "0.875579 (0.008242) with: {'metric': 'minkowski', 'n_neighbors': 5, 'weights': 'distance'}\n",
      "0.878610 (0.006844) with: {'metric': 'minkowski', 'n_neighbors': 7, 'weights': 'uniform'}\n",
      "0.878639 (0.006745) with: {'metric': 'minkowski', 'n_neighbors': 7, 'weights': 'distance'}\n",
      "0.880838 (0.007454) with: {'metric': 'minkowski', 'n_neighbors': 9, 'weights': 'uniform'}\n",
      "0.880689 (0.007345) with: {'metric': 'minkowski', 'n_neighbors': 9, 'weights': 'distance'}\n",
      "0.882561 (0.006052) with: {'metric': 'minkowski', 'n_neighbors': 11, 'weights': 'uniform'}\n",
      "0.882709 (0.006296) with: {'metric': 'minkowski', 'n_neighbors': 11, 'weights': 'distance'}\n",
      "0.881788 (0.006632) with: {'metric': 'minkowski', 'n_neighbors': 13, 'weights': 'uniform'}\n",
      "0.882115 (0.006585) with: {'metric': 'minkowski', 'n_neighbors': 13, 'weights': 'distance'}\n",
      "0.881551 (0.006863) with: {'metric': 'minkowski', 'n_neighbors': 15, 'weights': 'uniform'}\n",
      "0.882294 (0.006873) with: {'metric': 'minkowski', 'n_neighbors': 15, 'weights': 'distance'}\n",
      "0.881699 (0.006850) with: {'metric': 'minkowski', 'n_neighbors': 17, 'weights': 'uniform'}\n",
      "0.882353 (0.006942) with: {'metric': 'minkowski', 'n_neighbors': 17, 'weights': 'distance'}\n",
      "0.881402 (0.006799) with: {'metric': 'minkowski', 'n_neighbors': 19, 'weights': 'uniform'}\n",
      "0.881848 (0.006656) with: {'metric': 'minkowski', 'n_neighbors': 19, 'weights': 'distance'}\n"
     ]
    }
   ],
   "source": [
    "# define models and parameters\n",
    "model = KNeighborsClassifier()\n",
    "n_neighbors = range(1, 21, 2)\n",
    "weights = ['uniform', 'distance']\n",
    "metric = ['euclidean', 'manhattan', 'minkowski']\n",
    "\n",
    "# define grid search\n",
    "grid = dict(n_neighbors=n_neighbors,weights=weights,metric=metric)\n",
    "\n",
    "cv = RepeatedStratifiedKFold(n_splits=10, n_repeats=3, random_state=1)\n",
    "grid_search = GridSearchCV(estimator=model, param_grid=grid, n_jobs=-1, cv=cv, scoring='accuracy',error_score=0)\n",
    "grid_result = grid_search.fit(X_train_scaled, y_train)\n",
    "# summarize results\n",
    "print(\"Best: %f using %s\" % (grid_result.best_score_, grid_result.best_params_))\n",
    "means = grid_result.cv_results_['mean_test_score']\n",
    "stds = grid_result.cv_results_['std_test_score']\n",
    "params = grid_result.cv_results_['params']\n",
    "for mean, stdev, param in zip(means, stds, params):\n",
    "    print(\"%f (%f) with: %r\" % (mean, stdev, param))"
   ]
  },
  {
   "cell_type": "code",
   "execution_count": null,
   "id": "0b7904c4",
   "metadata": {},
   "outputs": [],
   "source": []
  },
  {
   "cell_type": "markdown",
   "id": "cbac1385",
   "metadata": {},
   "source": [
    "# Hyperparameters for KNN for orginal data"
   ]
  },
  {
   "cell_type": "code",
   "execution_count": 6,
   "id": "d94e5009",
   "metadata": {},
   "outputs": [
    {
     "name": "stdout",
     "output_type": "stream",
     "text": [
      "Best: 0.867766 using {'metric': 'euclidean', 'n_neighbors': 11, 'weights': 'distance'}\n",
      "0.828550 (0.008407) with: {'metric': 'euclidean', 'n_neighbors': 1, 'weights': 'uniform'}\n",
      "0.828550 (0.008407) with: {'metric': 'euclidean', 'n_neighbors': 1, 'weights': 'distance'}\n",
      "0.857160 (0.007021) with: {'metric': 'euclidean', 'n_neighbors': 3, 'weights': 'uniform'}\n",
      "0.855407 (0.007631) with: {'metric': 'euclidean', 'n_neighbors': 3, 'weights': 'distance'}\n",
      "0.863428 (0.008155) with: {'metric': 'euclidean', 'n_neighbors': 5, 'weights': 'uniform'}\n",
      "0.862864 (0.008492) with: {'metric': 'euclidean', 'n_neighbors': 5, 'weights': 'distance'}\n",
      "0.865597 (0.008908) with: {'metric': 'euclidean', 'n_neighbors': 7, 'weights': 'uniform'}\n",
      "0.865865 (0.008464) with: {'metric': 'euclidean', 'n_neighbors': 7, 'weights': 'distance'}\n",
      "0.866370 (0.007861) with: {'metric': 'euclidean', 'n_neighbors': 9, 'weights': 'uniform'}\n",
      "0.866875 (0.008131) with: {'metric': 'euclidean', 'n_neighbors': 9, 'weights': 'distance'}\n",
      "0.867528 (0.007613) with: {'metric': 'euclidean', 'n_neighbors': 11, 'weights': 'uniform'}\n",
      "0.867766 (0.007239) with: {'metric': 'euclidean', 'n_neighbors': 11, 'weights': 'distance'}\n",
      "0.866132 (0.006695) with: {'metric': 'euclidean', 'n_neighbors': 13, 'weights': 'uniform'}\n",
      "0.867320 (0.006314) with: {'metric': 'euclidean', 'n_neighbors': 13, 'weights': 'distance'}\n",
      "0.866280 (0.005034) with: {'metric': 'euclidean', 'n_neighbors': 15, 'weights': 'uniform'}\n",
      "0.866162 (0.005358) with: {'metric': 'euclidean', 'n_neighbors': 15, 'weights': 'distance'}\n",
      "0.865924 (0.004982) with: {'metric': 'euclidean', 'n_neighbors': 17, 'weights': 'uniform'}\n",
      "0.866102 (0.005351) with: {'metric': 'euclidean', 'n_neighbors': 17, 'weights': 'distance'}\n",
      "0.865389 (0.005102) with: {'metric': 'euclidean', 'n_neighbors': 19, 'weights': 'uniform'}\n",
      "0.865835 (0.004875) with: {'metric': 'euclidean', 'n_neighbors': 19, 'weights': 'distance'}\n",
      "0.834135 (0.006461) with: {'metric': 'manhattan', 'n_neighbors': 1, 'weights': 'uniform'}\n",
      "0.834135 (0.006461) with: {'metric': 'manhattan', 'n_neighbors': 1, 'weights': 'distance'}\n",
      "0.857368 (0.007191) with: {'metric': 'manhattan', 'n_neighbors': 3, 'weights': 'uniform'}\n",
      "0.856387 (0.007009) with: {'metric': 'manhattan', 'n_neighbors': 3, 'weights': 'distance'}\n",
      "0.863428 (0.007352) with: {'metric': 'manhattan', 'n_neighbors': 5, 'weights': 'uniform'}\n",
      "0.863191 (0.007551) with: {'metric': 'manhattan', 'n_neighbors': 5, 'weights': 'distance'}\n",
      "0.861022 (0.007773) with: {'metric': 'manhattan', 'n_neighbors': 7, 'weights': 'uniform'}\n",
      "0.861854 (0.007292) with: {'metric': 'manhattan', 'n_neighbors': 7, 'weights': 'distance'}\n",
      "0.862121 (0.007303) with: {'metric': 'manhattan', 'n_neighbors': 9, 'weights': 'uniform'}\n",
      "0.862686 (0.007033) with: {'metric': 'manhattan', 'n_neighbors': 9, 'weights': 'distance'}\n",
      "0.861884 (0.006490) with: {'metric': 'manhattan', 'n_neighbors': 11, 'weights': 'uniform'}\n",
      "0.861973 (0.006148) with: {'metric': 'manhattan', 'n_neighbors': 11, 'weights': 'distance'}\n",
      "0.861735 (0.005093) with: {'metric': 'manhattan', 'n_neighbors': 13, 'weights': 'uniform'}\n",
      "0.862240 (0.005875) with: {'metric': 'manhattan', 'n_neighbors': 13, 'weights': 'distance'}\n",
      "0.861943 (0.004818) with: {'metric': 'manhattan', 'n_neighbors': 15, 'weights': 'uniform'}\n",
      "0.862062 (0.005154) with: {'metric': 'manhattan', 'n_neighbors': 15, 'weights': 'distance'}\n",
      "0.860814 (0.005011) with: {'metric': 'manhattan', 'n_neighbors': 17, 'weights': 'uniform'}\n",
      "0.861349 (0.004885) with: {'metric': 'manhattan', 'n_neighbors': 17, 'weights': 'distance'}\n",
      "0.860755 (0.004076) with: {'metric': 'manhattan', 'n_neighbors': 19, 'weights': 'uniform'}\n",
      "0.861616 (0.005062) with: {'metric': 'manhattan', 'n_neighbors': 19, 'weights': 'distance'}\n",
      "0.828550 (0.008407) with: {'metric': 'minkowski', 'n_neighbors': 1, 'weights': 'uniform'}\n",
      "0.828550 (0.008407) with: {'metric': 'minkowski', 'n_neighbors': 1, 'weights': 'distance'}\n",
      "0.857160 (0.007021) with: {'metric': 'minkowski', 'n_neighbors': 3, 'weights': 'uniform'}\n",
      "0.855407 (0.007631) with: {'metric': 'minkowski', 'n_neighbors': 3, 'weights': 'distance'}\n",
      "0.863428 (0.008155) with: {'metric': 'minkowski', 'n_neighbors': 5, 'weights': 'uniform'}\n",
      "0.862864 (0.008492) with: {'metric': 'minkowski', 'n_neighbors': 5, 'weights': 'distance'}\n",
      "0.865597 (0.008908) with: {'metric': 'minkowski', 'n_neighbors': 7, 'weights': 'uniform'}\n",
      "0.865865 (0.008464) with: {'metric': 'minkowski', 'n_neighbors': 7, 'weights': 'distance'}\n",
      "0.866370 (0.007861) with: {'metric': 'minkowski', 'n_neighbors': 9, 'weights': 'uniform'}\n",
      "0.866875 (0.008131) with: {'metric': 'minkowski', 'n_neighbors': 9, 'weights': 'distance'}\n",
      "0.867528 (0.007613) with: {'metric': 'minkowski', 'n_neighbors': 11, 'weights': 'uniform'}\n",
      "0.867766 (0.007239) with: {'metric': 'minkowski', 'n_neighbors': 11, 'weights': 'distance'}\n",
      "0.866132 (0.006695) with: {'metric': 'minkowski', 'n_neighbors': 13, 'weights': 'uniform'}\n",
      "0.867320 (0.006314) with: {'metric': 'minkowski', 'n_neighbors': 13, 'weights': 'distance'}\n",
      "0.866280 (0.005034) with: {'metric': 'minkowski', 'n_neighbors': 15, 'weights': 'uniform'}\n",
      "0.866162 (0.005358) with: {'metric': 'minkowski', 'n_neighbors': 15, 'weights': 'distance'}\n",
      "0.865924 (0.004982) with: {'metric': 'minkowski', 'n_neighbors': 17, 'weights': 'uniform'}\n",
      "0.866102 (0.005351) with: {'metric': 'minkowski', 'n_neighbors': 17, 'weights': 'distance'}\n",
      "0.865389 (0.005102) with: {'metric': 'minkowski', 'n_neighbors': 19, 'weights': 'uniform'}\n",
      "0.865835 (0.004875) with: {'metric': 'minkowski', 'n_neighbors': 19, 'weights': 'distance'}\n"
     ]
    }
   ],
   "source": [
    "# define models and parameters\n",
    "model = KNeighborsClassifier()\n",
    "n_neighbors = range(1, 21, 2)\n",
    "weights = ['uniform', 'distance']\n",
    "metric = ['euclidean', 'manhattan', 'minkowski']\n",
    "\n",
    "# define grid search\n",
    "grid = dict(n_neighbors=n_neighbors,weights=weights,metric=metric)\n",
    "\n",
    "cv = RepeatedStratifiedKFold(n_splits=10, n_repeats=3, random_state=1)\n",
    "grid_search = GridSearchCV(estimator=model, param_grid=grid, n_jobs=-1, cv=cv, scoring='accuracy',error_score=0)\n",
    "grid_result = grid_search.fit(X_train, y_train)\n",
    "# summarize results\n",
    "print(\"Best: %f using %s\" % (grid_result.best_score_, grid_result.best_params_))\n",
    "means = grid_result.cv_results_['mean_test_score']\n",
    "stds = grid_result.cv_results_['std_test_score']\n",
    "params = grid_result.cv_results_['params']\n",
    "for mean, stdev, param in zip(means, stds, params):\n",
    "    print(\"%f (%f) with: %r\" % (mean, stdev, param))"
   ]
  },
  {
   "cell_type": "markdown",
   "id": "095fe11e",
   "metadata": {},
   "source": [
    "# KNN: Both scaled and non-scaled hyperparameters are same"
   ]
  },
  {
   "cell_type": "markdown",
   "id": "3d32de7b",
   "metadata": {},
   "source": [
    "# Hyperparameters for LinearSVM  for Scaled data"
   ]
  },
  {
   "cell_type": "code",
   "execution_count": 7,
   "id": "e3f9e551",
   "metadata": {},
   "outputs": [
    {
     "name": "stderr",
     "output_type": "stream",
     "text": [
      "C:\\Users\\edevbak\\Anaconda3\\lib\\site-packages\\sklearn\\svm\\_base.py:985: ConvergenceWarning: Liblinear failed to converge, increase the number of iterations.\n",
      "  warnings.warn(\"Liblinear failed to converge, increase \"\n",
      "C:\\Users\\edevbak\\Anaconda3\\lib\\site-packages\\sklearn\\svm\\_base.py:985: ConvergenceWarning: Liblinear failed to converge, increase the number of iterations.\n",
      "  warnings.warn(\"Liblinear failed to converge, increase \"\n",
      "C:\\Users\\edevbak\\Anaconda3\\lib\\site-packages\\sklearn\\svm\\_base.py:985: ConvergenceWarning: Liblinear failed to converge, increase the number of iterations.\n",
      "  warnings.warn(\"Liblinear failed to converge, increase \"\n",
      "C:\\Users\\edevbak\\Anaconda3\\lib\\site-packages\\sklearn\\svm\\_base.py:985: ConvergenceWarning: Liblinear failed to converge, increase the number of iterations.\n",
      "  warnings.warn(\"Liblinear failed to converge, increase \"\n",
      "C:\\Users\\edevbak\\Anaconda3\\lib\\site-packages\\sklearn\\svm\\_base.py:985: ConvergenceWarning: Liblinear failed to converge, increase the number of iterations.\n",
      "  warnings.warn(\"Liblinear failed to converge, increase \"\n",
      "C:\\Users\\edevbak\\Anaconda3\\lib\\site-packages\\sklearn\\svm\\_base.py:985: ConvergenceWarning: Liblinear failed to converge, increase the number of iterations.\n",
      "  warnings.warn(\"Liblinear failed to converge, increase \"\n",
      "C:\\Users\\edevbak\\Anaconda3\\lib\\site-packages\\sklearn\\svm\\_base.py:985: ConvergenceWarning: Liblinear failed to converge, increase the number of iterations.\n",
      "  warnings.warn(\"Liblinear failed to converge, increase \"\n",
      "C:\\Users\\edevbak\\Anaconda3\\lib\\site-packages\\sklearn\\svm\\_base.py:985: ConvergenceWarning: Liblinear failed to converge, increase the number of iterations.\n",
      "  warnings.warn(\"Liblinear failed to converge, increase \"\n",
      "C:\\Users\\edevbak\\Anaconda3\\lib\\site-packages\\sklearn\\svm\\_base.py:985: ConvergenceWarning: Liblinear failed to converge, increase the number of iterations.\n",
      "  warnings.warn(\"Liblinear failed to converge, increase \"\n",
      "C:\\Users\\edevbak\\Anaconda3\\lib\\site-packages\\sklearn\\svm\\_base.py:985: ConvergenceWarning: Liblinear failed to converge, increase the number of iterations.\n",
      "  warnings.warn(\"Liblinear failed to converge, increase \"\n",
      "C:\\Users\\edevbak\\Anaconda3\\lib\\site-packages\\sklearn\\svm\\_base.py:985: ConvergenceWarning: Liblinear failed to converge, increase the number of iterations.\n",
      "  warnings.warn(\"Liblinear failed to converge, increase \"\n",
      "C:\\Users\\edevbak\\Anaconda3\\lib\\site-packages\\sklearn\\svm\\_base.py:985: ConvergenceWarning: Liblinear failed to converge, increase the number of iterations.\n",
      "  warnings.warn(\"Liblinear failed to converge, increase \"\n",
      "C:\\Users\\edevbak\\Anaconda3\\lib\\site-packages\\sklearn\\svm\\_base.py:985: ConvergenceWarning: Liblinear failed to converge, increase the number of iterations.\n",
      "  warnings.warn(\"Liblinear failed to converge, increase \"\n",
      "C:\\Users\\edevbak\\Anaconda3\\lib\\site-packages\\sklearn\\svm\\_base.py:985: ConvergenceWarning: Liblinear failed to converge, increase the number of iterations.\n",
      "  warnings.warn(\"Liblinear failed to converge, increase \"\n",
      "C:\\Users\\edevbak\\Anaconda3\\lib\\site-packages\\sklearn\\svm\\_base.py:985: ConvergenceWarning: Liblinear failed to converge, increase the number of iterations.\n",
      "  warnings.warn(\"Liblinear failed to converge, increase \"\n",
      "C:\\Users\\edevbak\\Anaconda3\\lib\\site-packages\\sklearn\\svm\\_base.py:985: ConvergenceWarning: Liblinear failed to converge, increase the number of iterations.\n",
      "  warnings.warn(\"Liblinear failed to converge, increase \"\n",
      "C:\\Users\\edevbak\\Anaconda3\\lib\\site-packages\\sklearn\\svm\\_base.py:985: ConvergenceWarning: Liblinear failed to converge, increase the number of iterations.\n",
      "  warnings.warn(\"Liblinear failed to converge, increase \"\n",
      "C:\\Users\\edevbak\\Anaconda3\\lib\\site-packages\\sklearn\\svm\\_base.py:985: ConvergenceWarning: Liblinear failed to converge, increase the number of iterations.\n",
      "  warnings.warn(\"Liblinear failed to converge, increase \"\n",
      "C:\\Users\\edevbak\\Anaconda3\\lib\\site-packages\\sklearn\\svm\\_base.py:985: ConvergenceWarning: Liblinear failed to converge, increase the number of iterations.\n",
      "  warnings.warn(\"Liblinear failed to converge, increase \"\n",
      "C:\\Users\\edevbak\\Anaconda3\\lib\\site-packages\\sklearn\\svm\\_base.py:985: ConvergenceWarning: Liblinear failed to converge, increase the number of iterations.\n",
      "  warnings.warn(\"Liblinear failed to converge, increase \"\n",
      "C:\\Users\\edevbak\\Anaconda3\\lib\\site-packages\\sklearn\\svm\\_base.py:985: ConvergenceWarning: Liblinear failed to converge, increase the number of iterations.\n",
      "  warnings.warn(\"Liblinear failed to converge, increase \"\n",
      "C:\\Users\\edevbak\\Anaconda3\\lib\\site-packages\\sklearn\\svm\\_base.py:985: ConvergenceWarning: Liblinear failed to converge, increase the number of iterations.\n",
      "  warnings.warn(\"Liblinear failed to converge, increase \"\n",
      "C:\\Users\\edevbak\\Anaconda3\\lib\\site-packages\\sklearn\\svm\\_base.py:985: ConvergenceWarning: Liblinear failed to converge, increase the number of iterations.\n",
      "  warnings.warn(\"Liblinear failed to converge, increase \"\n",
      "C:\\Users\\edevbak\\Anaconda3\\lib\\site-packages\\sklearn\\svm\\_base.py:985: ConvergenceWarning: Liblinear failed to converge, increase the number of iterations.\n",
      "  warnings.warn(\"Liblinear failed to converge, increase \"\n",
      "C:\\Users\\edevbak\\Anaconda3\\lib\\site-packages\\sklearn\\svm\\_base.py:985: ConvergenceWarning: Liblinear failed to converge, increase the number of iterations.\n",
      "  warnings.warn(\"Liblinear failed to converge, increase \"\n",
      "C:\\Users\\edevbak\\Anaconda3\\lib\\site-packages\\sklearn\\svm\\_base.py:985: ConvergenceWarning: Liblinear failed to converge, increase the number of iterations.\n",
      "  warnings.warn(\"Liblinear failed to converge, increase \"\n",
      "C:\\Users\\edevbak\\Anaconda3\\lib\\site-packages\\sklearn\\svm\\_base.py:985: ConvergenceWarning: Liblinear failed to converge, increase the number of iterations.\n",
      "  warnings.warn(\"Liblinear failed to converge, increase \"\n",
      "C:\\Users\\edevbak\\Anaconda3\\lib\\site-packages\\sklearn\\svm\\_base.py:985: ConvergenceWarning: Liblinear failed to converge, increase the number of iterations.\n",
      "  warnings.warn(\"Liblinear failed to converge, increase \"\n",
      "C:\\Users\\edevbak\\Anaconda3\\lib\\site-packages\\sklearn\\svm\\_base.py:985: ConvergenceWarning: Liblinear failed to converge, increase the number of iterations.\n",
      "  warnings.warn(\"Liblinear failed to converge, increase \"\n",
      "C:\\Users\\edevbak\\Anaconda3\\lib\\site-packages\\sklearn\\svm\\_base.py:985: ConvergenceWarning: Liblinear failed to converge, increase the number of iterations.\n",
      "  warnings.warn(\"Liblinear failed to converge, increase \"\n",
      "C:\\Users\\edevbak\\Anaconda3\\lib\\site-packages\\sklearn\\svm\\_base.py:985: ConvergenceWarning: Liblinear failed to converge, increase the number of iterations.\n",
      "  warnings.warn(\"Liblinear failed to converge, increase \"\n",
      "C:\\Users\\edevbak\\Anaconda3\\lib\\site-packages\\sklearn\\svm\\_base.py:985: ConvergenceWarning: Liblinear failed to converge, increase the number of iterations.\n",
      "  warnings.warn(\"Liblinear failed to converge, increase \"\n",
      "C:\\Users\\edevbak\\Anaconda3\\lib\\site-packages\\sklearn\\svm\\_base.py:985: ConvergenceWarning: Liblinear failed to converge, increase the number of iterations.\n",
      "  warnings.warn(\"Liblinear failed to converge, increase \"\n",
      "C:\\Users\\edevbak\\Anaconda3\\lib\\site-packages\\sklearn\\svm\\_base.py:985: ConvergenceWarning: Liblinear failed to converge, increase the number of iterations.\n",
      "  warnings.warn(\"Liblinear failed to converge, increase \"\n",
      "C:\\Users\\edevbak\\Anaconda3\\lib\\site-packages\\sklearn\\svm\\_base.py:985: ConvergenceWarning: Liblinear failed to converge, increase the number of iterations.\n",
      "  warnings.warn(\"Liblinear failed to converge, increase \"\n",
      "C:\\Users\\edevbak\\Anaconda3\\lib\\site-packages\\sklearn\\svm\\_base.py:985: ConvergenceWarning: Liblinear failed to converge, increase the number of iterations.\n",
      "  warnings.warn(\"Liblinear failed to converge, increase \"\n",
      "C:\\Users\\edevbak\\Anaconda3\\lib\\site-packages\\sklearn\\svm\\_base.py:985: ConvergenceWarning: Liblinear failed to converge, increase the number of iterations.\n",
      "  warnings.warn(\"Liblinear failed to converge, increase \"\n",
      "C:\\Users\\edevbak\\Anaconda3\\lib\\site-packages\\sklearn\\svm\\_base.py:985: ConvergenceWarning: Liblinear failed to converge, increase the number of iterations.\n",
      "  warnings.warn(\"Liblinear failed to converge, increase \"\n",
      "C:\\Users\\edevbak\\Anaconda3\\lib\\site-packages\\sklearn\\svm\\_base.py:985: ConvergenceWarning: Liblinear failed to converge, increase the number of iterations.\n",
      "  warnings.warn(\"Liblinear failed to converge, increase \"\n"
     ]
    },
    {
     "name": "stderr",
     "output_type": "stream",
     "text": [
      "C:\\Users\\edevbak\\Anaconda3\\lib\\site-packages\\sklearn\\svm\\_base.py:985: ConvergenceWarning: Liblinear failed to converge, increase the number of iterations.\n",
      "  warnings.warn(\"Liblinear failed to converge, increase \"\n"
     ]
    },
    {
     "name": "stdout",
     "output_type": "stream",
     "text": [
      "Best: 0.882264 using {'C': 10}\n",
      "0.880838 (0.008304) with: {'C': 50}\n",
      "0.882264 (0.005413) with: {'C': 10}\n",
      "0.880927 (0.005013) with: {'C': 1.0}\n",
      "0.881105 (0.004803) with: {'C': 0.1}\n",
      "0.880927 (0.004819) with: {'C': 0.01}\n"
     ]
    },
    {
     "name": "stderr",
     "output_type": "stream",
     "text": [
      "C:\\Users\\edevbak\\Anaconda3\\lib\\site-packages\\sklearn\\svm\\_base.py:985: ConvergenceWarning: Liblinear failed to converge, increase the number of iterations.\n",
      "  warnings.warn(\"Liblinear failed to converge, increase \"\n"
     ]
    }
   ],
   "source": [
    "#from sklearn.svm import SVC\n",
    "\n",
    "model = LinearSVC()\n",
    "C = [50, 10, 1.0, 0.1, 0.01]\n",
    "# define grid search\n",
    "grid = dict(C=C)\n",
    "#cv = RepeatedStratifiedKFold(n_splits=10, n_repeats=3, random_state=0)\n",
    "grid_search = GridSearchCV(estimator=model, param_grid=[grid], cv=10, scoring='accuracy',error_score=0)\n",
    "grid_result = grid_search.fit(X_train_scaled, y_train)\n",
    "# summarize results\n",
    "print(\"Best: %f using %s\" % (grid_result.best_score_, grid_result.best_params_))\n",
    "means = grid_result.cv_results_['mean_test_score']\n",
    "stds = grid_result.cv_results_['std_test_score']\n",
    "params = grid_result.cv_results_['params']\n",
    "for mean, stdev, param in zip(means, stds, params):\n",
    "    print(\"%f (%f) with: %r\" % (mean, stdev, param))"
   ]
  },
  {
   "cell_type": "code",
   "execution_count": null,
   "id": "7f10bafb",
   "metadata": {},
   "outputs": [],
   "source": []
  },
  {
   "cell_type": "code",
   "execution_count": null,
   "id": "67c243ec",
   "metadata": {},
   "outputs": [],
   "source": []
  },
  {
   "cell_type": "markdown",
   "id": "4ce003c9",
   "metadata": {},
   "source": [
    "# Scale the test data using \"train data\" scaler\n"
   ]
  },
  {
   "cell_type": "code",
   "execution_count": 8,
   "id": "64b52ccf",
   "metadata": {},
   "outputs": [
    {
     "name": "stdout",
     "output_type": "stream",
     "text": [
      "[[  0.      0.      0.    ...   2.      1.      0.   ]\n",
      " [  2.     47.5     0.    ...   3.      1.      0.   ]\n",
      " [  1.     10.      0.    ...   1.      1.      0.   ]\n",
      " ...\n",
      " [  4.     96.8     1.    ...   2.      1.      0.   ]\n",
      " [  8.    222.875   4.    ...   2.      1.      0.   ]\n",
      " [  5.     27.4     0.    ...   2.      2.      0.   ]]\n",
      "(1110, 17)\n",
      "[[-0.69631267 -0.45595517 -0.39458734 ... -0.51301018 -0.40503262\n",
      "  -0.55181471]\n",
      " [-0.0951563  -0.18685942 -0.39458734 ... -0.26319575 -0.40503262\n",
      "  -0.55181471]\n",
      " [-0.39573449 -0.39930343 -0.39458734 ... -0.76282461 -0.40503262\n",
      "  -0.55181471]\n",
      " ...\n",
      " [ 0.50600007  0.09243363  0.38913897 ... -0.51301018 -0.40503262\n",
      "  -0.55181471]\n",
      " [ 1.70831281  0.80667039  2.7403179  ... -0.51301018 -0.40503262\n",
      "  -0.55181471]\n",
      " [ 0.80657825 -0.30072941 -0.39458734 ... -0.51301018  2.22791405\n",
      "  -0.55181471]]\n"
     ]
    }
   ],
   "source": [
    "print(X_test)\n",
    "print(X_test.shape)\n",
    "X_test_scaled = x_std_scaler.transform(X_test)\n",
    "print(X_test_scaled)\n"
   ]
  },
  {
   "cell_type": "markdown",
   "id": "455f6e8e",
   "metadata": {},
   "source": [
    "# Test KNN and LinearSVC algo"
   ]
  },
  {
   "cell_type": "code",
   "execution_count": 9,
   "id": "ce657bb9",
   "metadata": {},
   "outputs": [
    {
     "name": "stdout",
     "output_type": "stream",
     "text": [
      "(11220,)\n",
      "(1110,)\n",
      "(array([0., 1.]), array([930, 180], dtype=int64))\n",
      "\n",
      " KNN Y_test: [1. 0. 0. ... 0. 0. 1.]\n",
      "\n",
      " KNN knn_predictions: [0. 0. 0. ... 0. 0. 0.]\n",
      "\n",
      "The KNN accuracy score is: 0.8648648648648649\n",
      "features  17\n",
      "n_samples_fit_  11220\n",
      "classes_  [0. 1.]\n",
      "\n",
      " LinearSVC y_train lin_svc.coef_: [[-0.00686953 -0.01123125  0.0073483   0.00845639  0.0297278   0.05404922\n",
      "   0.00786359 -0.09783305  0.47596815 -0.01546628  0.05502722 -0.01601602\n",
      "   0.00779196 -0.0109232   0.00298381  0.02855077  0.01353251]]\n",
      "\n",
      " LinearSVC y_train lin_svc.intercept_: [-0.69310928]\n",
      "\n",
      " LinearSVC y_train lin_svc.classes_: [0. 1.]\n",
      "\n",
      " LinearSVC y_train lin_svc.n_features_in_: 17\n",
      "\n",
      " LinearSVC y_train lin_svc.n_iter_: 10000\n",
      "\n",
      " LinearSVC Y_test: [1. 0. 0. ... 0. 0. 1.]\n",
      "\n",
      " LinearSVC lin_svc_predictions: [0. 0. 0. ... 0. 0. 0.]\n",
      "\n",
      "The LinearSVC accuracy score is: 0.8729729729729729\n"
     ]
    },
    {
     "name": "stderr",
     "output_type": "stream",
     "text": [
      "C:\\Users\\edevbak\\Anaconda3\\lib\\site-packages\\sklearn\\svm\\_base.py:985: ConvergenceWarning: Liblinear failed to converge, increase the number of iterations.\n",
      "  warnings.warn(\"Liblinear failed to converge, increase \"\n"
     ]
    }
   ],
   "source": [
    "print(y_train.shape)\n",
    "print(y_test.shape)\n",
    "\n",
    "print(numpy.unique(y_test, return_counts=True))\n",
    "\n",
    "# Make predictions on validation dataset\n",
    "knn = KNeighborsClassifier(n_neighbors=11, metric='euclidean', weights='distance')\n",
    "knn.fit(X_train_scaled, y_train)\n",
    "knn_predictions = knn.predict(X_test_scaled)\n",
    "\n",
    "print(\"\\n KNN Y_test: \" + str(y_test))\n",
    "print(\"\\n KNN knn_predictions: \" + str(knn_predictions))\n",
    "print(\"\\nThe KNN accuracy score is: \" + str(accuracy_score(y_test, knn_predictions)))\n",
    "print(\"features \",  knn.n_features_in_)\n",
    "print(\"n_samples_fit_ \",  knn.n_samples_fit_)\n",
    "print(\"classes_ \",  knn.classes_)\n",
    "\n",
    "\n",
    "# Make predictions on validation dataset\n",
    "lin_svc = LinearSVC(C=10, max_iter=10000)\n",
    "lin_svc.fit(X_train_scaled, y_train)\n",
    "print(\"\\n LinearSVC y_train lin_svc.coef_: \" + str(lin_svc.coef_))\n",
    "print(\"\\n LinearSVC y_train lin_svc.intercept_: \" + str(lin_svc.intercept_))\n",
    "print(\"\\n LinearSVC y_train lin_svc.classes_: \" + str(lin_svc.classes_))\n",
    "print(\"\\n LinearSVC y_train lin_svc.n_features_in_: \" + str(lin_svc.n_features_in_))\n",
    "print(\"\\n LinearSVC y_train lin_svc.n_iter_: \" + str(lin_svc.n_iter_))\n",
    "\n",
    "\n",
    "lin_svc_predictions = lin_svc.predict(X_test_scaled)\n",
    "\n",
    "print(\"\\n LinearSVC Y_test: \" + str(y_test))\n",
    "print(\"\\n LinearSVC lin_svc_predictions: \" + str(lin_svc_predictions))\n",
    "print(\"\\nThe LinearSVC accuracy score is: \" + str(accuracy_score(y_test, lin_svc_predictions)))"
   ]
  },
  {
   "cell_type": "code",
   "execution_count": null,
   "id": "2702997c",
   "metadata": {},
   "outputs": [],
   "source": []
  },
  {
   "cell_type": "markdown",
   "id": "2a4964ae",
   "metadata": {},
   "source": [
    "# Conclusions with \"revenue\" and \"non revenue\" instances classifications"
   ]
  },
  {
   "cell_type": "markdown",
   "id": "824ac09a",
   "metadata": {},
   "source": [
    "KNN hyperparameters: {'metric': 'euclidean', 'n_neighbors': 11, 'weights': 'distance'} "
   ]
  },
  {
   "cell_type": "markdown",
   "id": "a3ee7e54",
   "metadata": {},
   "source": [
    "LinerSVC hyperameters: {'C': 10}"
   ]
  },
  {
   "cell_type": "markdown",
   "id": "d614306c",
   "metadata": {},
   "source": [
    "Use the scaler fitted with training dataset for test instances "
   ]
  },
  {
   "cell_type": "code",
   "execution_count": null,
   "id": "af970372",
   "metadata": {},
   "outputs": [],
   "source": []
  },
  {
   "cell_type": "code",
   "execution_count": null,
   "id": "8425e069",
   "metadata": {},
   "outputs": [],
   "source": []
  },
  {
   "cell_type": "code",
   "execution_count": null,
   "id": "bc3e8cd6",
   "metadata": {},
   "outputs": [],
   "source": []
  },
  {
   "cell_type": "code",
   "execution_count": null,
   "id": "b8e07a87",
   "metadata": {},
   "outputs": [],
   "source": []
  },
  {
   "cell_type": "markdown",
   "id": "2143501b",
   "metadata": {},
   "source": [
    "# IGNORE BELOW Cells (They are rough sheets)"
   ]
  },
  {
   "cell_type": "markdown",
   "id": "40684626",
   "metadata": {},
   "source": [
    "# Take the features that have -ve correlation to revenue"
   ]
  },
  {
   "cell_type": "code",
   "execution_count": 10,
   "id": "f0d0a2c3",
   "metadata": {},
   "outputs": [
    {
     "name": "stdout",
     "output_type": "stream",
     "text": [
      "        BounceRates     ExitRates       Revenue\n",
      "count  12330.000000  12330.000000  12330.000000\n",
      "mean       0.022191      0.043073      0.154745\n",
      "std        0.048488      0.048597      0.361676\n",
      "min        0.000000      0.000000      0.000000\n",
      "25%        0.000000      0.014286      0.000000\n",
      "50%        0.003112      0.025156      0.000000\n",
      "75%        0.016813      0.050000      0.000000\n",
      "max        0.200000      0.200000      1.000000\n",
      "\n",
      " dataset_encoded plot: \n",
      "\n"
     ]
    },
    {
     "data": {
      "image/png": "[encoded data removed]",
      "text/plain": [
       "<Figure size 1440x1440 with 20 Axes>"
      ]
     },
     "metadata": {
      "needs_background": "light"
     },
     "output_type": "display_data"
    },
    {
     "name": "stdout",
     "output_type": "stream",
     "text": [
      "\n",
      "  dataset_encoded hist: \n",
      "\n"
     ]
    },
    {
     "data": {
      "image/png": "[encoded data removed]",
      "text/plain": [
       "<Figure size 1440x1440 with 4 Axes>"
      ]
     },
     "metadata": {
      "needs_background": "light"
     },
     "output_type": "display_data"
    },
    {
     "name": "stdout",
     "output_type": "stream",
     "text": [
      "\n",
      " scatter_matrix: \n",
      "\n"
     ]
    },
    {
     "data": {
      "image/png": "[encoded data removed]",
      "text/plain": [
       "<Figure size 432x288 with 9 Axes>"
      ]
     },
     "metadata": {
      "needs_background": "light"
     },
     "output_type": "display_data"
    },
    {
     "name": "stdout",
     "output_type": "stream",
     "text": [
      "\n",
      "  dataset_encoded Correlation heatmap: \n",
      "\n"
     ]
    },
    {
     "data": {
      "image/png": "[encoded data removed]",
      "text/plain": [
       "<Figure size 432x288 with 2 Axes>"
      ]
     },
     "metadata": {
      "needs_background": "light"
     },
     "output_type": "display_data"
    }
   ],
   "source": [
    "#data_neg_corr_revenue = dataset_encoded[dataset_encoded[], dataset_encoded[]]\n",
    "data_neg_corr_revenue = dataset_encoded.loc[:, ['BounceRates', 'ExitRates',  'Revenue']]\n",
    "\n",
    "# For a statistical summary: describe\n",
    "# This provides information such as mean, count, avg, max, min etc.\n",
    "print(str(data_neg_corr_revenue.describe()))\n",
    "\n",
    "# To visualise univariate(plots of individual variables) plots: box and whisker plots\n",
    "# For better idea of variable distribution\n",
    "print(\"\\n dataset_encoded plot: \\n\")\n",
    "data_neg_corr_revenue.plot(kind='box', subplots=True, layout=(4, 5), figsize=(20,20), sharex=False, sharey=False)\n",
    "plt.show()\n",
    "\n",
    "\n",
    "# To visualise as a histogram: hist\n",
    "print(\"\\n  dataset_encoded hist: \\n\")\n",
    "data_neg_corr_revenue.hist(bins=50, figsize=(20,20))\n",
    "plt.show()\n",
    "\n",
    "\n",
    "# To visualise multivariate(plots of individual variables) plots: scatter plot matrix\n",
    "print(\"\\n scatter_matrix: \\n\")\n",
    "scatter_matrix(frame=data_neg_corr_revenue)\n",
    "plt.show()\n",
    "\n",
    "\n",
    "\n",
    "#Correlation matrix\n",
    "corrMatrix = data_neg_corr_revenue.corr()\n",
    "#mask = numpy.zeros_like(corrMatrix)\n",
    "#mask[numpy.triu_indices_from(mask)] = True\n",
    "#print (corrMatrix)\n",
    "print(\"\\n  dataset_encoded Correlation heatmap: \\n\")\n",
    "import seaborn as sn\n",
    "#plt.figure(figsize=(15, 15))\n",
    "#sn.heatmap(corrMatrix, annot=True, mask=mask)\n",
    "sn.heatmap(corrMatrix, annot=True)\n",
    "plt.show()\n",
    "\n",
    "\n",
    "\n"
   ]
  },
  {
   "cell_type": "markdown",
   "id": "ba9f409c",
   "metadata": {},
   "source": [
    "# Spilt data to train and test\n"
   ]
  },
  {
   "cell_type": "code",
   "execution_count": 11,
   "id": "7d2013a0",
   "metadata": {},
   "outputs": [
    {
     "name": "stdout",
     "output_type": "stream",
     "text": [
      "(11220, 2)\n",
      "(11220,)\n",
      "(1110, 2)\n",
      "(1110,)\n"
     ]
    }
   ],
   "source": [
    "X = data_neg_corr_revenue.values[:, 0:2]\n",
    "y = data_neg_corr_revenue.values[:, 2]\n",
    "test_size = 0.09\n",
    "seed = 7\n",
    "X_train, X_test, y_train, y_test = model_selection.train_test_split(X, y, test_size=test_size, random_state=seed)\n",
    "\n",
    "print(X_train.shape)\n",
    "print(y_train.shape)\n",
    "print(X_test.shape)\n",
    "print(y_test.shape)"
   ]
  },
  {
   "cell_type": "code",
   "execution_count": 12,
   "id": "0ad797ef",
   "metadata": {},
   "outputs": [
    {
     "name": "stdout",
     "output_type": "stream",
     "text": [
      "KNN: k= 2 accuracy mean =  0.8288770053475936\n",
      "KNN: k= 3 accuracy mean =  0.8059714795008913\n",
      "KNN: k= 4 accuracy mean =  0.8366310160427807\n",
      "KNN: k= 5 accuracy mean =  0.8254010695187166\n",
      "KNN: k= 6 accuracy mean =  0.8390374331550803\n",
      "KNN: k= 7 accuracy mean =  0.8334224598930481\n",
      "KNN: k= 8 accuracy mean =  0.8411764705882353\n",
      "KNN: k= 9 accuracy mean =  0.8364527629233512\n",
      "KNN: k= 10 accuracy mean =  0.8420677361853832\n",
      "KNN: k= 11 accuracy mean =  0.8401960784313726\n",
      "KNN: k= 12 accuracy mean =  0.8437611408199643\n",
      "KNN: k= 13 accuracy mean =  0.8425133689839571\n",
      "KNN: k= 14 accuracy mean =  0.8436720142602496\n",
      "KNN: k= 15 accuracy mean =  0.8427807486631016\n",
      "KNN: k= 16 accuracy mean =  0.844295900178253\n",
      "KNN: k= 17 accuracy mean =  0.8435828877005347\n",
      "KNN: k= 18 accuracy mean =  0.8445632798573974\n",
      "KNN: k= 19 accuracy mean =  0.8434937611408199\n",
      "KNN: k= 20 accuracy mean =  0.8446524064171121\n",
      "KNN: k= 21 accuracy mean =  0.8437611408199641\n",
      "KNN: k= 22 accuracy mean =  0.844830659536542\n",
      "KNN: k= 23 accuracy mean =  0.8445632798573977\n",
      "KNN: k= 24 accuracy mean =  0.8448306595365418\n",
      "SVC: tol=  0.1 accuracy mean =  0.8459893048128342\n",
      "SVC: tol=  0.01 accuracy mean =  0.8459893048128342\n",
      "SVC: tol=  0.001 accuracy mean =  0.8459893048128342\n",
      "SVC: tol=  0.0001 accuracy mean =  0.8459893048128342\n"
     ]
    }
   ],
   "source": [
    "kfold = model_selection.KFold(n_splits=10, random_state=seed, shuffle=True)\n",
    "#print(kfold)\n",
    "\n",
    "for k in range(2,25,1):\n",
    "    cv_results_knn = model_selection.cross_val_score(KNeighborsClassifier(n_neighbors=k, weights='uniform'), X_train, y_train, cv=kfold)\n",
    "    print(\"KNN: k=\", k, \"accuracy mean = \", cv_results_knn.mean())\n",
    "\n",
    "\n",
    "for tolerance in [1e-1, 1e-2, 1e-3, 1e-4]:    \n",
    "    cv_results_svc = model_selection.cross_val_score(LinearSVC(tol=tolerance, dual = False), X_train, y_train, cv=kfold)\n",
    "    print(\"SVC: tol= \",tolerance, \"accuracy mean = \", cv_results_svc.mean())"
   ]
  },
  {
   "cell_type": "code",
   "execution_count": 13,
   "id": "5532553d",
   "metadata": {},
   "outputs": [
    {
     "ename": "NameError",
     "evalue": "name 'Y_test' is not defined",
     "output_type": "error",
     "traceback": [
      "\u001b[1;31m---------------------------------------------------------------------------\u001b[0m",
      "\u001b[1;31mNameError\u001b[0m                                 Traceback (most recent call last)",
      "\u001b[1;32m~\\AppData\\Local\\Temp/ipykernel_25432/675862313.py\u001b[0m in \u001b[0;36m<module>\u001b[1;34m\u001b[0m\n\u001b[1;32m----> 1\u001b[1;33m \u001b[0mprint\u001b[0m\u001b[1;33m(\u001b[0m\u001b[0mY_test\u001b[0m\u001b[1;33m.\u001b[0m\u001b[0mshape\u001b[0m\u001b[1;33m)\u001b[0m\u001b[1;33m\u001b[0m\u001b[1;33m\u001b[0m\u001b[0m\n\u001b[0m\u001b[0;32m      2\u001b[0m \u001b[1;33m\u001b[0m\u001b[0m\n\u001b[0;32m      3\u001b[0m \u001b[1;31m# Make predictions on validation dataset\u001b[0m\u001b[1;33m\u001b[0m\u001b[1;33m\u001b[0m\u001b[0m\n\u001b[0;32m      4\u001b[0m \u001b[0mknn\u001b[0m \u001b[1;33m=\u001b[0m \u001b[0mKNeighborsClassifier\u001b[0m\u001b[1;33m(\u001b[0m\u001b[0mn_neighbors\u001b[0m\u001b[1;33m=\u001b[0m\u001b[1;36m8\u001b[0m\u001b[1;33m,\u001b[0m \u001b[0mweights\u001b[0m\u001b[1;33m=\u001b[0m\u001b[1;34m'uniform'\u001b[0m\u001b[1;33m)\u001b[0m\u001b[1;33m\u001b[0m\u001b[1;33m\u001b[0m\u001b[0m\n\u001b[0;32m      5\u001b[0m \u001b[0mknn\u001b[0m\u001b[1;33m.\u001b[0m\u001b[0mfit\u001b[0m\u001b[1;33m(\u001b[0m\u001b[0mX_train_scaled\u001b[0m\u001b[1;33m,\u001b[0m \u001b[0mY_train\u001b[0m\u001b[1;33m)\u001b[0m\u001b[1;33m\u001b[0m\u001b[1;33m\u001b[0m\u001b[0m\n",
      "\u001b[1;31mNameError\u001b[0m: name 'Y_test' is not defined"
     ]
    }
   ],
   "source": [
    "print(Y_test.shape)\n",
    "\n",
    "# Make predictions on validation dataset\n",
    "knn = KNeighborsClassifier(n_neighbors=8, weights='uniform')\n",
    "knn.fit(X_train_scaled, Y_train)\n",
    "knn_predictions = knn.predict(X_test_scaled)\n",
    "\n",
    "print(\"\\n KNN Y_test: \" + str(Y_test))\n",
    "print(\"\\n KNN knn_predictions: \" + str(knn_predictions))\n",
    "print(\"\\nThe KNN accuracy score is: \" + str(accuracy_score(Y_test, knn_predictions)))\n",
    "#print(\"features \",  knn.n_features_in_)\n",
    "#print(\"n_samples_fit_ \",  knn.n_samples_fit_)\n",
    "\n",
    "\n",
    "# Make predictions on validation dataset\n",
    "lin_svc = LinearSVC(tol = 0.1, dual = False)\n",
    "lin_svc.fit(X_train_scaled, Y_train)\n",
    "lin_svc_predictions = lin_svc.predict(X_test_scaled)\n",
    "\n",
    "print(\"\\n LinearSVC Y_test: \" + str(Y_test))\n",
    "print(\"\\n LinearSVC lin_svc_predictions: \" + str(lin_svc_predictions))\n",
    "print(\"\\nThe LinearSVC accuracy score is: \" + str(accuracy_score(y_test, lin_svc_predictions)))"
   ]
  },
  {
   "cell_type": "code",
   "execution_count": null,
   "id": "ddf549f7",
   "metadata": {},
   "outputs": [],
   "source": []
  },
  {
   "cell_type": "markdown",
   "id": "0532c5a2",
   "metadata": {},
   "source": []
  },
  {
   "cell_type": "markdown",
   "id": "28e1aaa1",
   "metadata": {},
   "source": [
    "# Take the features that have +ve correlation to revenue"
   ]
  },
  {
   "cell_type": "code",
   "execution_count": null,
   "id": "c08e52b7",
   "metadata": {},
   "outputs": [],
   "source": [
    "## data_neg_corr_revenue = dataset_encoded[dataset_encoded[], dataset_encoded[]]\n",
    "data_positive_corr_revenue = dataset_encoded.loc[:, ['Administrative', 'ProductRelated',  'ProductRelated_Duration', 'PageValues' ,'Month','Revenue']]\n",
    "\n",
    "# For a statistical summary: describe\n",
    "# This provides information such as mean, count, avg, max, min etc.\n",
    "print(str(data_positive_corr_revenue.describe()))\n",
    "\n",
    "# To visualise univariate(plots of individual variables) plots: box and whisker plots\n",
    "# For better idea of variable distribution\n",
    "print(\"\\n data_positive_corr_revenue plot: \\n\")\n",
    "data_positive_corr_revenue.plot(kind='box', subplots=True, layout=(2, 3), figsize=(10,10), sharex=False, sharey=False)\n",
    "plt.show()\n",
    "\n",
    "\n",
    "# To visualise as a histogram: hist\n",
    "print(\"\\n  data_positive_corr_revenue hist: \\n\")\n",
    "data_positive_corr_revenue.hist(bins=50, figsize=(20,20))\n",
    "plt.show()\n",
    "\n",
    "\n",
    "# To visualise multivariate(plots of individual variables) plots: scatter plot matrix\n",
    "print(\"\\n scatter_matrix: \\n\")\n",
    "scatter_matrix(frame=data_positive_corr_revenue, figsize=(20,20))\n",
    "plt.show()\n",
    "\n",
    "\n",
    "\n",
    "#Correlation matrix\n",
    "corrMatrix_pos_rev = data_positive_corr_revenue.corr()\n",
    "mask = numpy.zeros_like(corrMatrix_pos_rev)\n",
    "mask[numpy.triu_indices_from(mask)] = True\n",
    "#print (corrMatrix)\n",
    "print(\"\\n  data_positive_corr_revenue Correlation heatmap: \\n\")\n",
    "import seaborn as sn\n",
    "plt.figure(figsize=(10, 10))\n",
    "sn.heatmap(corrMatrix_pos_rev, annot=True, mask=mask)\n",
    "#sn.heatmap(corrMatrix, annot=True)\n",
    "plt.show()\n",
    "\n"
   ]
  },
  {
   "cell_type": "markdown",
   "id": "d8be40bb",
   "metadata": {},
   "source": [
    "# Winsorize the outliers"
   ]
  },
  {
   "cell_type": "code",
   "execution_count": null,
   "id": "09e6820e",
   "metadata": {},
   "outputs": [],
   "source": [
    "from scipy.stats.mstats import winsorize\n",
    "\n",
    "for col_name in data_positive_corr_revenue:\n",
    "    winsorize(data_positive_corr_revenue[col_name], limits=[0.05, 0.05], inplace=True)\n",
    "    \n",
    "    \n",
    "# For a statistical summary: describe\n",
    "# This provides information such as mean, count, avg, max, min etc.\n",
    "print(str(data_positive_corr_revenue.describe()))\n",
    "\n",
    "# To visualise univariate(plots of individual variables) plots: box and whisker plots\n",
    "# For better idea of variable distribution\n",
    "print(\"\\n data_positive_corr_revenue plot: \\n\")\n",
    "data_positive_corr_revenue.plot(kind='box', subplots=True, layout=(2, 3), figsize=(10,10), sharex=False, sharey=False)\n",
    "plt.show()"
   ]
  },
  {
   "cell_type": "markdown",
   "id": "8514614d",
   "metadata": {},
   "source": [
    "# Classify data based on revenue"
   ]
  },
  {
   "cell_type": "code",
   "execution_count": null,
   "id": "336b84d4",
   "metadata": {},
   "outputs": [],
   "source": [
    "X = data_positive_corr_revenue.values[:, 0:4]\n",
    "y = data_positive_corr_revenue.values[:, 4]\n",
    "test_size = 0.09\n",
    "seed = 7\n",
    "X_train, X_test, y_train, y_test = model_selection.train_test_split(X, y, test_size=test_size, random_state=seed)\n",
    "\n",
    "print(X_train.shape)\n",
    "print(y_train.shape)\n",
    "print(X_test.shape)\n",
    "print(y_test.shape)"
   ]
  },
  {
   "cell_type": "markdown",
   "id": "d807cefe",
   "metadata": {},
   "source": [
    "# Run classifiers"
   ]
  },
  {
   "cell_type": "code",
   "execution_count": null,
   "id": "96acf564",
   "metadata": {},
   "outputs": [],
   "source": [
    "kfold = model_selection.KFold(n_splits=10, random_state=seed, shuffle=True)\n",
    "#print(kfold)\n",
    "\n",
    "for k in range(2,25,1):\n",
    "    cv_results_knn = model_selection.cross_val_score(KNeighborsClassifier(n_neighbors=k, weights='uniform'), X_train, y_train, cv=kfold)\n",
    "    print(\"KNN: k=\", k, \"accuracy mean = \", cv_results_knn.mean())\n",
    "\n",
    "\n",
    "for tolerance in [1e-1, 1e-2, 1e-3, 1e-4]:    \n",
    "    cv_results_svc = model_selection.cross_val_score(LinearSVC(tol=tolerance, dual = False), X_train, y_train, cv=kfold)\n",
    "    print(\"SVC: tol= \",tolerance, \"accuracy mean = \", cv_results_svc.mean())"
   ]
  },
  {
   "cell_type": "markdown",
   "id": "9f664e68",
   "metadata": {},
   "source": [
    "# scale the data"
   ]
  },
  {
   "cell_type": "code",
   "execution_count": null,
   "id": "e9fda56e",
   "metadata": {},
   "outputs": [],
   "source": [
    "x_data_positive_corr_revenue_scaler = StandardScaler().fit(X_train)\n",
    "X_train_scaled = x_data_positive_corr_revenue_scaler.transform(X_train)\n",
    "print(X_train_scaled)\n",
    "print(X_train_scaled.shape)"
   ]
  },
  {
   "cell_type": "markdown",
   "id": "b6ddbdf6",
   "metadata": {},
   "source": [
    "# Run classifier on scaled train data"
   ]
  },
  {
   "cell_type": "code",
   "execution_count": null,
   "id": "9ba608da",
   "metadata": {},
   "outputs": [],
   "source": []
  },
  {
   "cell_type": "markdown",
   "id": "6471c506",
   "metadata": {},
   "source": [
    "# Scale the test data and test"
   ]
  },
  {
   "cell_type": "code",
   "execution_count": null,
   "id": "d11bb54c",
   "metadata": {},
   "outputs": [],
   "source": [
    "print(X_test)\n",
    "print(X_test.shape)\n",
    "X_test_scaled = x_data_positive_corr_revenue_scaler.transform(X_test)\n",
    "print(x_test_scaled)\n",
    "\n",
    "\n",
    "\n",
    "print(Y_test.shape)\n",
    "\n",
    "# Make predictions on validation dataset\n",
    "knn = KNeighborsClassifier(n_neighbors=22, weights='uniform')\n",
    "knn.fit(X_train_scaled, Y_train)\n",
    "knn_predictions = knn.predict(X_test_scaled)\n",
    "\n",
    "print(\"\\n KNN Y_test: \" + str(Y_test))\n",
    "print(\"\\n KNN knn_predictions: \" + str(knn_predictions))\n",
    "print(\"\\nThe KNN accuracy score is: \" + str(accuracy_score(Y_test, knn_predictions)))\n",
    "#print(\"features \",  knn.n_features_in_)\n",
    "#print(\"n_samples_fit_ \",  knn.n_samples_fit_)\n",
    "\n",
    "\n",
    "# Make predictions on validation dataset\n",
    "lin_svc = LinearSVC(tol = 0.1, dual = False)\n",
    "lin_svc.fit(X_train_scaled, Y_train)\n",
    "lin_svc_predictions = lin_svc.predict(X_test_scaled)\n",
    "\n",
    "print(\"\\n LinearSVC Y_test: \" + str(Y_test))\n",
    "print(\"\\n LinearSVC lin_svc_predictions: \" + str(lin_svc_predictions))\n",
    "print(\"\\nThe LinearSVC accuracy score is: \" + str(accuracy_score(Y_test, lin_svc_predictions)))"
   ]
  },
  {
   "cell_type": "code",
   "execution_count": null,
   "id": "d2e2446e",
   "metadata": {},
   "outputs": [],
   "source": []
  }
 ],
 "metadata": {
  "kernelspec": {
   "display_name": "Python 3 (ipykernel)",
   "language": "python",
   "name": "python3"
  },
  "language_info": {
   "codemirror_mode": {
    "name": "ipython",
    "version": 3
   },
   "file_extension": ".py",
   "mimetype": "text/x-python",
   "name": "python",
   "nbconvert_exporter": "python",
   "pygments_lexer": "ipython3",
   "version": "3.9.7"
  }
 },
 "nbformat": 4,
 "nbformat_minor": 5
}
